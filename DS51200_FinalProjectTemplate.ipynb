{
 "cells": [
  {
   "cell_type": "markdown",
   "id": "45762487-d33f-486d-8e38-2cdea04e3528",
   "metadata": {},
   "source": [
    "# Final Project Report\n",
    "\n",
    "* Class: DS 5100\n",
    "* Student Name: Cameron Her\n",
    "* Student Net ID: csh4bj\n",
    "* This URL: https://github.com/csh4bj/FinalProject/blob/main/DS51200_FinalProjectTemplate.ipynb"
   ]
  },
  {
   "cell_type": "markdown",
   "id": "acf756c1-ecaa-41dc-b6ca-d566eb94560b",
   "metadata": {},
   "source": [
    "# Instructions\n",
    "\n",
    "Follow the instructions in the Final Project isntructions notebook and put evidence of your work in this notebook.\n",
    "\n",
    "Total points for each subsection under **Deliverables** and **Scenarios** are given in parentheses.\n",
    "\n",
    "Breakdowns of points within subsections are specified within subsection instructions as bulleted lists.\n",
    "\n",
    "This project is worth **50 points**."
   ]
  },
  {
   "cell_type": "markdown",
   "id": "89dc7a32-f682-4402-8c1e-b6ccdb3e0e39",
   "metadata": {},
   "source": [
    "# Deliverables"
   ]
  },
  {
   "cell_type": "markdown",
   "id": "d32cb273-9a40-4909-a7ce-51f6e4958d3c",
   "metadata": {},
   "source": [
    "## The Monte Carlo Module (10)\n",
    "\n",
    "- URL included, appropriately named (1).\n",
    "- Includes all three specified classes (3).\n",
    "- Includes at least all 12 specified methods (6; .5 each)."
   ]
  },
  {
   "cell_type": "markdown",
   "id": "f5f3b070-de9e-4de9-bfae-8974d184aa28",
   "metadata": {},
   "source": [
    "Put the URL to your GitHub repo here.\n",
    "\n",
    "Repo URL: https://github.com/csh4bj/FinalProject"
   ]
  },
  {
   "cell_type": "markdown",
   "id": "162370fb-3729-4c85-b040-8c25b2c966d2",
   "metadata": {},
   "source": [
    "Paste a copyy of your module here.\n",
    "\n",
    "NOTE: Paste as text, not as code. Use triple backticks to wrap your code blocks."
   ]
  },
  {
   "cell_type": "markdown",
   "id": "15e30ec3-ab15-48a3-9d24-3f9d0ce1ea10",
   "metadata": {
    "tags": []
   },
   "source": [
    "```python\n",
    "import numpy as np\n",
    "import pandas as pd\n",
    "\n",
    "class Die:\n",
    "    \"\"\"\n",
    "    A die has 𝑁 sides, or “faces”, and  𝑊 weights, and can be rolled to select a face.\n",
    "    \n",
    "    Each side contains a unique symbol. Symbols may be all alphabetic or all numeric.\n",
    "    \n",
    "    𝑊 defaults to  1.0 for each face but can be changed after the object is created.\n",
    "    The weights are just positive numbers (integers or floats, including  0), not a normalized probability distribution.\n",
    "    \n",
    "    This Die class has 4 methods: \n",
    "    • An initializer.\n",
    "    • A method to change the weight of a single side. \n",
    "    • A method to roll the die one or more times.\n",
    "    • A method to show the die’s current state.\n",
    "    \n",
    "    \"\"\"\n",
    "    def __init__(self, faces):\n",
    "        \"\"\"\n",
    "        PURPOSE: This method initializes the Die object and saves both faces and weights in a private data frame with faces in the index.  \n",
    "        \n",
    "        INPUT: This method takes a NumPy array of faces as an argument. The array’s data type dtype may be strings or numbers, but the array’s values must be distinct.\n",
    "        \n",
    "        OUTPUT: None.\n",
    "\n",
    "        \"\"\"\n",
    "        if type(faces) !=  np.ndarray:\n",
    "            raise TypeError(\"Faces is not a NumPy array.\")\n",
    "        if len(faces) != len(np.unique(faces)):\n",
    "            raise ValueError(\"Faces values must be distinct.\")\n",
    "        \n",
    "        self.my_die = pd.DataFrame({'face': faces,'weight': [1.0] * len(faces)}).set_index('face')\n",
    "\n",
    "        \n",
    "    def change_weight(self, face, new_weight):\n",
    "        \"\"\"\n",
    "        PURPOSE: This method changes the weight of a single side. \n",
    "        \n",
    "        INPUT: Takes two arguments: the face value to be changed and the new weight.\n",
    "        \n",
    "        OUTPUT: None.\n",
    "\n",
    "        \"\"\"\n",
    "        if face not in self.my_die.index:\n",
    "            raise IndexError(\"Face is not on this Die.\")\n",
    "        try:\n",
    "            new_weight = float(new_weight)\n",
    "            if new_weight < 0:\n",
    "                raise ValueError(\"Weight cannot be a negative value.\")\n",
    "        except ValueError:\n",
    "                raise TypeError(\"Weight is not a valid type.\")\n",
    "        self.my_die.loc[face, 'weight'] = new_weight\n",
    "    \n",
    "    def roll_dice(self, n_rolls=1):\n",
    "        \"\"\"\n",
    "        PURPOSE: This method rolls the die/dice using random sample with replacement, from the private die data frame, that applies the weights.\n",
    "        \n",
    "        INPUT: A parameter of how many times the die is to be rolled; defaults to  1.\n",
    "        \n",
    "        OUTPUT: pd.Series(results), a series with the results of the dice roll.\n",
    "\n",
    "        \"\"\"\n",
    "        results = []\n",
    "        for i in range(n_rolls):\n",
    "            result = self.my_die.sample(weights=self.my_die['weight']).index.values[0]\n",
    "            results.append(result)\n",
    "        return pd.Series(results)\n",
    "    \n",
    "    def show(self):\n",
    "        \"\"\"\n",
    "        PURPOSE: This method shows the die’s current state.\n",
    "        \n",
    "        INPUT: None.\n",
    "\n",
    "        OUTPUT: Returns a copy of the private die data frame.\n",
    "        \n",
    "        \"\"\"\n",
    "        return self.my_die.copy()\n",
    "\n",
    "    \n",
    "    \n",
    "class Game:\n",
    "    \"\"\"\n",
    "    A game consists of rolling of one or more similar dice one or more times.\n",
    "    \n",
    "    Similar dice are Die objects that have the same number of sides and associated faces,\n",
    "    though each die object may have its own weights. Game objects keep only the results\n",
    "    of their most recent play.\n",
    "    \n",
    "    This Game class has 3 methods: \n",
    "    • An initializer.\n",
    "    • A play method to simulate rolling a number of similar dice a specific number of times.\n",
    "    • A method that shows the user the results of the most recent play.  \n",
    "    \"\"\"\n",
    "    \n",
    "    def __init__(self, dice_list):\n",
    "        \n",
    "        \"\"\"\n",
    "        PURPOSE: This method initializes the Game object with a list of dice objects. \n",
    "        \n",
    "        INPUT: This method a single parameter, a list of already instantiated similar dice.\n",
    "        \n",
    "        OUTPUT: None.\n",
    "\n",
    "        \"\"\"\n",
    "        self.dice_list = dice_list\n",
    "        self.results = None\n",
    "        \n",
    "        \n",
    "    def play(self, n_rolls):\n",
    "        \"\"\"\n",
    "        PURPOSE: This method simulate rolling a number of similar dice a specific number of times.\n",
    "        \n",
    "        INPUT: This method takes an integer parameter to specify how many times the dice should be rolled.\n",
    "        \n",
    "        OUTPUT: This method saves the result of the play to a private data frame.\n",
    "\n",
    "        \"\"\"\n",
    "\n",
    "        result_data = {}\n",
    "        for i, dice in enumerate(self.dice_list):\n",
    "            result_data[i] = dice.roll_dice(n_rolls).values\n",
    "        self.results = pd.DataFrame(result_data)\n",
    "        self.results.index.name = 'roll_number'\n",
    "        \n",
    "        \n",
    "    def show(self, form='wide'):\n",
    "\n",
    "        \"\"\"\n",
    "        PURPOSE: This method shows the user the results of the most recent play.  \n",
    "        \n",
    "        INPUT: This method takes a parameter to return the data frame in narrow or wide form which defaults to wide form.\n",
    "        \n",
    "        OUTPUT: This method outputs pandas.DataFrame of the results from the game.\n",
    "        • The wide format will have the roll number as a named index, columns for each die number and the face rolled in that instance in each cell.\n",
    "        • The narrow form will have a MultiIndex, comprising the roll number and the die number (in that order), and a single column with the outcomes.\n",
    "\n",
    "        \"\"\"\n",
    "        \n",
    "        if self.results is None:\n",
    "            return None\n",
    "\n",
    "        if form == 'wide':\n",
    "            return self.results.copy()\n",
    "\n",
    "        elif form == 'narrow':\n",
    "            narrow_results = self.results.stack()\n",
    "            narrow_results.index.names = ['roll_number', 'die_number']\n",
    "            return narrow_results.to_frame('outcome')\n",
    "\n",
    "        \n",
    "        else:\n",
    "            raise ValueError(\"Form must be either 'wide' or 'narrow'\")\n",
    "            \n",
    "\n",
    "class Analyzer:\n",
    "    \"\"\"\n",
    "    An Analyzer object takes the results of a single game and computes various descriptive statistical properties about it.\n",
    "    \n",
    "    This Analyzer class has 5 methods: \n",
    "    • An initializer.\n",
    "    • A method that computes how many times the game resulted in a jackpot.\n",
    "    • A method that computes how many times a given face is rolled in each event.\n",
    "    • A method that computes the distinct combinations of faces rolled, along with their counts.\n",
    "    • A method that computes the distinct permutations of faces rolled, along with their counts.\n",
    "    \n",
    "    \"\"\"\n",
    "    def __init__(self, game):\n",
    "        \"\"\"\n",
    "        PURPOSE: This method initializes the Analyzer object.\n",
    "        \n",
    "        INPUT: This method takes a game object as its input parameter.\n",
    "        \n",
    "        OUTPUT: None.\n",
    "\n",
    "        \"\"\"\n",
    "        if type(game) is not Game:\n",
    "            raise ValueError(\"Value is not a Game object\")\n",
    "            \n",
    "        self.game = game\n",
    "        self.results = game.show(form='wide')\n",
    "        self.jackpot_count = 0\n",
    "        self.face_counts = None\n",
    "        self.combo_counts = None\n",
    "        self.permutation_counts = None\n",
    "\n",
    "    def jackpot(self):\n",
    "        \n",
    "        \"\"\"\n",
    "        PURPOSE: This method computes how many times the game resulted in a jackpot. \n",
    "        \n",
    "        INPUT: None\n",
    "        \n",
    "        OUTPUT: This method returns an integer for the number of jackpots.\n",
    "\n",
    "        \"\"\"\n",
    "        \n",
    "        count = 0\n",
    "        for i in self.results.index:\n",
    "            row = self.results.loc[i]\n",
    "            if len(row.unique()) == 1:\n",
    "                count += 1\n",
    "        self.jackpot_count = count\n",
    "        \n",
    "        return self.jackpot_count\n",
    "\n",
    "    def face_counts_per_roll(self):\n",
    "        \n",
    "        \"\"\"\n",
    "        PURPOSE: This method computes how many times a given face is rolled in each event.\n",
    "        \n",
    "        INPUT: None\n",
    "        \n",
    "        OUTPUT: This method returns a data frame of results.\n",
    "\n",
    "        \"\"\"\n",
    "        \n",
    "        counts_list = []\n",
    "        \n",
    "        for i in self.results.index:\n",
    "            row = self.results.loc[i].values\n",
    "            face_count = {}\n",
    "            \n",
    "            for face in row:\n",
    "                face_count[face] = face_count.get(face, 0) + 1\n",
    "                \n",
    "            counts_list.append(face_count)\n",
    "        \n",
    "        counts_df = pd.DataFrame(counts_list).fillna(0).astype(int)\n",
    "        counts_df.index = self.results.index\n",
    "        \n",
    "        self.face_counts = counts_df\n",
    "        return self.face_counts\n",
    "\n",
    "    def combo_count(self):\n",
    "            \n",
    "        \"\"\"\n",
    "        PURPOSE: This method computes the distinct combinations of faces rolled, along with their counts.\n",
    "        \n",
    "        INPUT: None\n",
    "        \n",
    "        OUTPUT: This method returns a data frame of results which has a MultiIndex of distinct combinations and a column for the associated counts.\n",
    "\n",
    "        \"\"\"\n",
    "        \n",
    "        combo_list = []\n",
    "        \n",
    "        for i in self.results.index:\n",
    "            row = self.results.loc[i].values\n",
    "            \n",
    "            sorted_combo = tuple(sorted(row)) \n",
    "            \n",
    "            combo_list.append(sorted_combo)\n",
    "        \n",
    "        combo_series = pd.Series(combo_list)\n",
    "        combo_counts = combo_series.value_counts().to_frame(name='count')\n",
    "        combo_counts.index.name = 'combo'\n",
    "        \n",
    "        self.combo_counts = combo_counts\n",
    "        return self.combo_counts\n",
    "\n",
    "    def permutation_count(self):\n",
    "        \n",
    "        \"\"\"\n",
    "        PURPOSE: This method computes the distinct permutations of faces rolled, along with their counts.\n",
    "        \n",
    "        INPUT: None\n",
    "        \n",
    "        OUTPUT: This method returns a data frame of results which has a MultiIndex of distinct permutations and a column for the associated counts.\n",
    "\n",
    "        \"\"\"\n",
    "        perm_list = []\n",
    "\n",
    "        for i in self.results.index:\n",
    "            row = self.results.loc[i].values\n",
    "            permutation = tuple(row) \n",
    "            perm_list.append(permutation)\n",
    "\n",
    "        perm_series = pd.Series(perm_list)\n",
    "        perm_counts = perm_series.value_counts().to_frame(name='count')\n",
    "        perm_counts.index.name = 'permutation'\n",
    "\n",
    "        self.permutation_counts = perm_counts\n",
    "        return self.permutation_counts\n",
    "```"
   ]
  },
  {
   "cell_type": "markdown",
   "id": "6377727a-8f0a-491e-9f1c-d9dc225edd35",
   "metadata": {},
   "source": [
    "## Unitest Module (2)\n",
    "\n",
    "Paste a copy of your test module below.\n",
    "\n",
    "NOTE: Paste as text, not as code. Use triple backticks to wrap your code blocks.\n",
    "\n",
    "- All methods have at least one test method (1).\n",
    "- Each method employs one of Unittest's Assert methods (1)."
   ]
  },
  {
   "cell_type": "markdown",
   "id": "752dd647-ff61-4183-889f-0eeea331a8d0",
   "metadata": {},
   "source": [
    "```python\n",
    "import unittest\n",
    "import numpy as np\n",
    "import pandas as pd\n",
    "from MonteCarlo import Die, Game, Analyzer\n",
    "\n",
    "class DieGameAnalyzerTestSuite(unittest.TestCase):\n",
    "    \n",
    "     # Die method tests\n",
    "    def test_die_init(self):\n",
    "        faces = np.array(['H', 'T'])\n",
    "        die = Die(faces)\n",
    "        self.assertListEqual(list(die.my_die.index), list(faces))\n",
    "        self.assertTrue((die.my_die['weight'] == 1.0).all())\n",
    "\n",
    "    def test_die_change_weight(self):\n",
    "        faces = np.array(['H', 'T'])\n",
    "        die = Die(faces)\n",
    "        die.change_weight('H', 5.0)\n",
    "        result = die.show()\n",
    "        \n",
    "        self.assertIsInstance(result, pd.DataFrame)\n",
    "        self.assertEqual(result.loc['H', 'weight'], 5.0)\n",
    "\n",
    "    def test_die_roll_dice(self):\n",
    "        faces = np.array(['H', 'T'])\n",
    "        die = Die(faces)\n",
    "        results = die.roll_dice(3)\n",
    "        \n",
    "        self.assertIsInstance(results, pd.Series)\n",
    "        self.assertEqual(len(results), 3)\n",
    "\n",
    "    def test_die_show(self):\n",
    "        faces = np.array(['H', 'T'])\n",
    "        die = Die(faces)\n",
    "        df = die.show()\n",
    "        self.assertIsInstance(df, pd.DataFrame)\n",
    "        self.assertIn('weight', df.columns)\n",
    "\n",
    "    # Game method tests\n",
    "    \n",
    "    def test_game_init(self):\n",
    "        faces = np.array(['H', 'T'])\n",
    "        die = Die(faces)\n",
    "        game = Game([die, die])\n",
    "        \n",
    "        self.assertEqual(len(game.dice_list), 2)\n",
    "\n",
    "    def test_game_play(self):\n",
    "        faces = np.array(['H', 'T'])\n",
    "        die = Die(faces)\n",
    "        game = Game([die, die])\n",
    "        game.play(5)\n",
    "        \n",
    "        self.assertIsInstance(game.results, pd.DataFrame)\n",
    "        self.assertEqual(game.results.shape[0], 5)\n",
    "        \n",
    "    def test_game_show_wide(self):\n",
    "        faces = np.array(['H', 'T'])\n",
    "        die = Die(faces)\n",
    "        game = Game([die, die])\n",
    "        game.play(5)\n",
    "        \n",
    "        df = game.show(form='wide')\n",
    "        self.assertEqual(df.shape, (5, 2))\n",
    "        self.assertIsInstance(df, pd.DataFrame)\n",
    "\n",
    "    def test_game_show_narrow(self):\n",
    "        faces = np.array(['H', 'T'])\n",
    "        die = Die(faces)\n",
    "        game = Game([die, die])\n",
    "        game.play(5)\n",
    "        df = game.show(form='narrow')\n",
    "        \n",
    "        self.assertEqual(df.shape, (10, 1))\n",
    "        self.assertIsInstance(df, pd.DataFrame)\n",
    "        \n",
    "        \n",
    "        # Analyzer method tests\n",
    "        \n",
    "    def test_analyzer_init(self):\n",
    "        faces = np.array(['H', 'T'])\n",
    "        die = Die(faces)\n",
    "        game = Game([die, die])\n",
    "        game.play(5)\n",
    "        analyzer = Analyzer(game)\n",
    "        \n",
    "        self.assertEqual(analyzer.jackpot_count, 0)\n",
    "        self.assertIsNone(analyzer.face_counts)\n",
    "        self.assertIsNone(analyzer.combo_counts)\n",
    "        self.assertIsNone(analyzer.permutation_counts)\n",
    "\n",
    "    def test_analyzer_jackpot(self):\n",
    "        faces = np.array(['H', 'T'])\n",
    "        die = Die(faces)\n",
    "        game = Game([die, die])\n",
    "        game.play(5)\n",
    "        analyzer = Analyzer(game)\n",
    "        count = analyzer.jackpot()\n",
    "        \n",
    "        self.assertIsInstance(count, int)\n",
    "        self.assertLessEqual(count, len(game.results))\n",
    "\n",
    "    def test_analyzer_face_counts_per_roll(self):\n",
    "        faces = np.array(['H', 'T'])\n",
    "        die = Die(faces)\n",
    "        game = Game([die, die])\n",
    "        game.play(5)\n",
    "        analyzer = Analyzer(game)\n",
    "        df = analyzer.face_counts_per_roll()\n",
    "        \n",
    "        self.assertIsInstance(df, pd.DataFrame)\n",
    "        self.assertEqual(df.shape[0], 5)\n",
    "        self.assertTrue(df.index.equals(game.results.index))\n",
    "        \n",
    "    def test_analyzer_combo_count(self):\n",
    "        faces = np.array(['H', 'T'])\n",
    "        die = Die(faces)\n",
    "        game = Game([die, die])\n",
    "        game.play(5)\n",
    "        analyzer = Analyzer(game)\n",
    "        df = analyzer.combo_count()\n",
    "        self.assertIsInstance(df, pd.DataFrame)\n",
    "        self.assertLessEqual(len(df), 5)\n",
    "        self.assertIn('count', df.columns)\n",
    "\n",
    "\n",
    "    def test_analyzer_permutation_count(self):\n",
    "        faces = np.array(['H', 'T'])\n",
    "        die = Die(faces)\n",
    "        game = Game([die, die])\n",
    "        game.play(5)\n",
    "        analyzer = Analyzer(game)\n",
    "        df = analyzer.permutation_count()\n",
    "        self.assertIsInstance(df, pd.DataFrame)\n",
    "        self.assertLessEqual(len(df), 5)\n",
    "        self.assertIn('count', df.columns)\n",
    "\n",
    "if __name__ == '__main__':\n",
    "    unittest.main(verbosity=3)\n",
    "```"
   ]
  },
  {
   "cell_type": "markdown",
   "id": "3e058d03-29bc-408f-b36d-0605b4f4b8c0",
   "metadata": {
    "tags": []
   },
   "source": [
    "## Unittest Results (3)\n",
    "\n",
    "Put a copy of the results of running your tests from the command line here.\n",
    "\n",
    "Again, paste as text using triple backticks.\n",
    "\n",
    "- All 12 specified methods return OK (3; .25 each)."
   ]
  },
  {
   "cell_type": "markdown",
   "id": "d22535f6-29c9-483f-8bf8-f986b25cddff",
   "metadata": {
    "tags": []
   },
   "source": [
    "``` bash\n",
    "bash-4.4$ python test_montecarlo.py\n",
    "test_analyzer_combo_count (__main__.DieGameAnalyzerTestSuite.test_analyzer_combo_count) ... ok\n",
    "test_analyzer_face_counts_per_roll (__main__.DieGameAnalyzerTestSuite.test_analyzer_face_counts_per_roll) ... ok\n",
    "test_analyzer_init (__main__.DieGameAnalyzerTestSuite.test_analyzer_init) ... ok\n",
    "test_analyzer_jackpot (__main__.DieGameAnalyzerTestSuite.test_analyzer_jackpot) ... ok\n",
    "test_analyzer_permutation_count (__main__.DieGameAnalyzerTestSuite.test_analyzer_permutation_count) ... ok\n",
    "test_die_change_weight (__main__.DieGameAnalyzerTestSuite.test_die_change_weight) ... ok\n",
    "test_die_init (__main__.DieGameAnalyzerTestSuite.test_die_init) ... ok\n",
    "test_die_roll_dice (__main__.DieGameAnalyzerTestSuite.test_die_roll_dice) ... ok\n",
    "test_die_show (__main__.DieGameAnalyzerTestSuite.test_die_show) ... ok\n",
    "test_game_init (__main__.DieGameAnalyzerTestSuite.test_game_init) ... ok\n",
    "test_game_play (__main__.DieGameAnalyzerTestSuite.test_game_play) ... ok\n",
    "test_game_show_narrow (__main__.DieGameAnalyzerTestSuite.test_game_show_narrow) ... ok\n",
    "test_game_show_wide (__main__.DieGameAnalyzerTestSuite.test_game_show_wide) ... ok\n",
    "\n",
    "----------------------------------------------------------------------\n",
    "Ran 13 tests in 0.043s\n",
    "\n",
    "OK\n",
    "```"
   ]
  },
  {
   "cell_type": "markdown",
   "id": "d9ffe8c5-eb2f-4ad1-af76-a46550e4c7ac",
   "metadata": {},
   "source": [
    "## Import (1)\n",
    "\n",
    "Import your module here. This import should refer to the code in your package directory.\n",
    "\n",
    "- Module successuflly imported (1)."
   ]
  },
  {
   "cell_type": "code",
   "execution_count": 2,
   "id": "a05dffb3-e6d6-4f78-9df4-5abd0cf74ca9",
   "metadata": {
    "tags": []
   },
   "outputs": [],
   "source": [
    "import numpy as np\n",
    "import pandas as pd\n",
    "from montecarlo import MonteCarlo\n",
    "from montecarlo import Die, Game, Analyzer"
   ]
  },
  {
   "cell_type": "markdown",
   "id": "f30c4842-65b1-4556-98b6-3fe1a07e1371",
   "metadata": {},
   "source": [
    "## Help Docs (4)\n",
    "\n",
    "Show your docstring documentation by applying `help()` to your imported module.\n",
    "\n",
    "- All methods have a docstring (3; .25 each).\n",
    "- All classes have a docstring (1; .33 each)."
   ]
  },
  {
   "cell_type": "code",
   "execution_count": 17,
   "id": "bf4fbf1f-9885-471c-a0a6-e9ca90e160de",
   "metadata": {
    "tags": []
   },
   "outputs": [
    {
     "name": "stdout",
     "output_type": "stream",
     "text": [
      "Help on module montecarlo.MonteCarlo in montecarlo:\n",
      "\n",
      "NAME\n",
      "    montecarlo.MonteCarlo\n",
      "\n",
      "CLASSES\n",
      "    builtins.object\n",
      "        Analyzer\n",
      "        Die\n",
      "        Game\n",
      "    \n",
      "    class Analyzer(builtins.object)\n",
      "     |  Analyzer(game)\n",
      "     |  \n",
      "     |  An Analyzer object takes the results of a single game and computes various descriptive statistical properties about it.\n",
      "     |  \n",
      "     |  This Analyzer class has 5 methods: \n",
      "     |  • An initializer.\n",
      "     |  • A method that computes how many times the game resulted in a jackpot.\n",
      "     |  • A method that computes how many times a given face is rolled in each event.\n",
      "     |  • A method that computes the distinct combinations of faces rolled, along with their counts.\n",
      "     |  • A method that computes the distinct permutations of faces rolled, along with their counts.\n",
      "     |  \n",
      "     |  Methods defined here:\n",
      "     |  \n",
      "     |  __init__(self, game)\n",
      "     |      PURPOSE: This method initializes the Analyzer object.\n",
      "     |      \n",
      "     |      INPUT: This method takes a game object as its input parameter.\n",
      "     |      \n",
      "     |      OUTPUT: None.\n",
      "     |  \n",
      "     |  combo_count(self)\n",
      "     |      PURPOSE: This method computes the distinct combinations of faces rolled, along with their counts.\n",
      "     |      \n",
      "     |      INPUT: None\n",
      "     |      \n",
      "     |      OUTPUT: This method returns a data frame of results which has a MultiIndex of distinct combinations and a column for the associated counts.\n",
      "     |  \n",
      "     |  face_counts_per_roll(self)\n",
      "     |      PURPOSE: This method computes how many times a given face is rolled in each event.\n",
      "     |      \n",
      "     |      INPUT: None\n",
      "     |      \n",
      "     |      OUTPUT: This method returns a data frame of results.\n",
      "     |  \n",
      "     |  jackpot(self)\n",
      "     |      PURPOSE: This method computes how many times the game resulted in a jackpot. \n",
      "     |      \n",
      "     |      INPUT: None\n",
      "     |      \n",
      "     |      OUTPUT: This method returns an integer for the number of jackpots.\n",
      "     |  \n",
      "     |  permutation_count(self)\n",
      "     |      PURPOSE: This method computes the distinct permutations of faces rolled, along with their counts.\n",
      "     |      \n",
      "     |      INPUT: None\n",
      "     |      \n",
      "     |      OUTPUT: This method returns a data frame of results which has a MultiIndex of distinct permutations and a column for the associated counts.\n",
      "     |  \n",
      "     |  ----------------------------------------------------------------------\n",
      "     |  Data descriptors defined here:\n",
      "     |  \n",
      "     |  __dict__\n",
      "     |      dictionary for instance variables (if defined)\n",
      "     |  \n",
      "     |  __weakref__\n",
      "     |      list of weak references to the object (if defined)\n",
      "    \n",
      "    class Die(builtins.object)\n",
      "     |  Die(faces)\n",
      "     |  \n",
      "     |  A die has 𝑁 sides, or “faces”, and  𝑊 weights, and can be rolled to select a face.\n",
      "     |  \n",
      "     |  Each side contains a unique symbol. Symbols may be all alphabetic or all numeric.\n",
      "     |  \n",
      "     |  𝑊 defaults to  1.0 for each face but can be changed after the object is created.\n",
      "     |  The weights are just positive numbers (integers or floats, including  0), not a normalized probability distribution.\n",
      "     |  \n",
      "     |  This Die class has 4 methods: \n",
      "     |  • An initializer.\n",
      "     |  • A method to change the weight of a single side. \n",
      "     |  • A method to roll the die one or more times.\n",
      "     |  • A method to show the die’s current state.\n",
      "     |  \n",
      "     |  Methods defined here:\n",
      "     |  \n",
      "     |  __init__(self, faces)\n",
      "     |      PURPOSE: This method initializes the Die object and saves both faces and weights in a private data frame with faces in the index.  \n",
      "     |      \n",
      "     |      INPUT: This method takes a NumPy array of faces as an argument. The array’s data type dtype may be strings or numbers, but the array’s values must be distinct.\n",
      "     |      \n",
      "     |      OUTPUT: None.\n",
      "     |  \n",
      "     |  change_weight(self, face, new_weight)\n",
      "     |      PURPOSE: This method changes the weight of a single side. \n",
      "     |      \n",
      "     |      INPUT: Takes two arguments: the face value to be changed and the new weight.\n",
      "     |      \n",
      "     |      OUTPUT: None.\n",
      "     |  \n",
      "     |  roll_dice(self, n_rolls=1)\n",
      "     |      PURPOSE: This method rolls the die/dice using random sample with replacement, from the private die data frame, that applies the weights.\n",
      "     |      \n",
      "     |      INPUT: A parameter of how many times the die is to be rolled; defaults to  1.\n",
      "     |      \n",
      "     |      OUTPUT: pd.Series(results), a series with the results of the dice roll.\n",
      "     |  \n",
      "     |  show(self)\n",
      "     |      PURPOSE: This method shows the die’s current state.\n",
      "     |      \n",
      "     |      INPUT: None.\n",
      "     |      \n",
      "     |      OUTPUT: Returns a copy of the private die data frame.\n",
      "     |  \n",
      "     |  ----------------------------------------------------------------------\n",
      "     |  Data descriptors defined here:\n",
      "     |  \n",
      "     |  __dict__\n",
      "     |      dictionary for instance variables (if defined)\n",
      "     |  \n",
      "     |  __weakref__\n",
      "     |      list of weak references to the object (if defined)\n",
      "    \n",
      "    class Game(builtins.object)\n",
      "     |  Game(dice_list)\n",
      "     |  \n",
      "     |  A game consists of rolling of one or more similar dice one or more times.\n",
      "     |  \n",
      "     |  Similar dice are Die objects that have the same number of sides and associated faces,\n",
      "     |  though each die object may have its own weights. Game objects keep only the results\n",
      "     |  of their most recent play.\n",
      "     |  \n",
      "     |  This Game class has 3 methods: \n",
      "     |  • An initializer.\n",
      "     |  • A play method to simulate rolling a number of similar dice a specific number of times.\n",
      "     |  • A method that shows the user the results of the most recent play.\n",
      "     |  \n",
      "     |  Methods defined here:\n",
      "     |  \n",
      "     |  __init__(self, dice_list)\n",
      "     |      PURPOSE: This method initializes the Game object with a list of dice objects. \n",
      "     |      \n",
      "     |      INPUT: This method a single parameter, a list of already instantiated similar dice.\n",
      "     |      \n",
      "     |      OUTPUT: None.\n",
      "     |  \n",
      "     |  play(self, n_rolls)\n",
      "     |      PURPOSE: This method simulate rolling a number of similar dice a specific number of times.\n",
      "     |      \n",
      "     |      INPUT: This method takes an integer parameter to specify how many times the dice should be rolled.\n",
      "     |      \n",
      "     |      OUTPUT: This method saves the result of the play to a private data frame.\n",
      "     |  \n",
      "     |  show(self, form='wide')\n",
      "     |      PURPOSE: This method shows the user the results of the most recent play.  \n",
      "     |      \n",
      "     |      INPUT: This method takes a parameter to return the data frame in narrow or wide form which defaults to wide form.\n",
      "     |      \n",
      "     |      OUTPUT: This method outputs pandas.DataFrame of the results from the game.\n",
      "     |      • The wide format will have the roll number as a named index, columns for each die number and the face rolled in that instance in each cell.\n",
      "     |      • The narrow form will have a MultiIndex, comprising the roll number and the die number (in that order), and a single column with the outcomes.\n",
      "     |  \n",
      "     |  ----------------------------------------------------------------------\n",
      "     |  Data descriptors defined here:\n",
      "     |  \n",
      "     |  __dict__\n",
      "     |      dictionary for instance variables (if defined)\n",
      "     |  \n",
      "     |  __weakref__\n",
      "     |      list of weak references to the object (if defined)\n",
      "\n",
      "FILE\n",
      "    /home/csh4bj/.local/lib/python3.11/site-packages/montecarlo/MonteCarlo.py\n",
      "\n",
      "\n"
     ]
    }
   ],
   "source": [
    "help(MonteCarlo)"
   ]
  },
  {
   "cell_type": "markdown",
   "id": "a9defa84-b395-4966-bd1c-5c6c2bb7ed68",
   "metadata": {},
   "source": [
    "## `README.md` File (3)\n",
    "\n",
    "Provide link to the README.md file of your project's repo.\n",
    "\n",
    "- Metadata section or info present (1).\n",
    "- Synopsis section showing how each class is called (1). (All must be included.)\n",
    "- API section listing all classes and methods (1). (All must be included.)"
   ]
  },
  {
   "cell_type": "markdown",
   "id": "ee090b33-d593-48a0-bf35-e739cea0942c",
   "metadata": {},
   "source": [
    "URL: https://github.com/csh4bj/FinalProject/blob/main/README.md"
   ]
  },
  {
   "cell_type": "markdown",
   "id": "108604c8-8827-42ef-ab59-6b25428fc0ca",
   "metadata": {},
   "source": [
    "## Successful installation (2)\n",
    "\n",
    "Put a screenshot or paste a copy of a terminal session where you successfully install your module with pip.\n",
    "\n",
    "If pasting text, use a preformatted text block to show the results.\n",
    "\n",
    "- Installed with `pip` (1).\n",
    "- Successfully installed message appears (1)."
   ]
  },
  {
   "cell_type": "markdown",
   "id": "40189038-3347-4987-9523-5d5b392d0664",
   "metadata": {},
   "source": [
    "```bash\n",
    "bash-4.4$ pip install .\n",
    "Defaulting to user installation because normal site-packages is not writeable\n",
    "Processing /sfs/gpfs/tardis/home/csh4bj/Documents/MSDS/DS5100/FinalProject\n",
    "  Preparing metadata (setup.py) ... done\n",
    "Requirement already satisfied: pandas in /apps/software/standard/core/jupyterlab/3.6.3-py3.11/lib/python3.11/site-packages (from montecarlo==0.1) (2.0.3)\n",
    "Requirement already satisfied: numpy in /apps/software/standard/core/jupyterlab/3.6.3-py3.11/lib/python3.11/site-packages (from montecarlo==0.1) (1.24.4)\n",
    "Requirement already satisfied: python-dateutil>=2.8.2 in /apps/software/standard/core/jupyterlab/3.6.3-py3.11/lib/python3.11/site-packages (from pandas->montecarlo==0.1) (2.8.2)\n",
    "Requirement already satisfied: pytz>=2020.1 in /apps/software/standard/core/jupyterlab/3.6.3-py3.11/lib/python3.11/site-packages (from pandas->montecarlo==0.1) (2023.3)\n",
    "Requirement already satisfied: tzdata>=2022.1 in /apps/software/standard/core/jupyterlab/3.6.3-py3.11/lib/python3.11/site-packages (from pandas->montecarlo==0.1) (2023.3)\n",
    "Requirement already satisfied: six>=1.5 in /apps/software/standard/core/jupyterlab/3.6.3-py3.11/lib/python3.11/site-packages (from python-dateutil>=2.8.2->pandas->montecarlo==0.1) (1.16.0)\n",
    "Building wheels for collected packages: montecarlo\n",
    "  Building wheel for montecarlo (setup.py) ... done\n",
    "  Created wheel for montecarlo: filename=montecarlo-0.1-py3-none-any.whl size=3989 sha256=534da4cdaf10048263c0c67d2fa48c4c80532762769f687cf6cf325254b4d79f\n",
    "  Stored in directory: /tmp/pip-ephem-wheel-cache-t8flh3vu/wheels/25/82/e5/cef9c8d7fbd829cb2a22f1babc4f15472c129dd590bd6d49f9\n",
    "Successfully built montecarlo\n",
    "Installing collected packages: montecarlo\n",
    "Successfully installed montecarlo-0.1\n",
    "```"
   ]
  },
  {
   "cell_type": "markdown",
   "id": "7c44695d-d1b3-4edf-9f94-e64d7446f199",
   "metadata": {},
   "source": [
    "# Scenarios\n",
    "\n",
    "Use code blocks to perform the tasks for each scenario.\n",
    "\n",
    "Be sure the outputs are visible before submitting."
   ]
  },
  {
   "cell_type": "markdown",
   "id": "e2479eae-6fc9-44cd-b8d7-9b22cb501f2a",
   "metadata": {
    "tags": []
   },
   "source": [
    "## Scenario 1: A 2-headed Coin (9)\n",
    "\n",
    "Task 1. Create a fair coin (with faces $H$ and $T$) and one unfair coin in which one of the faces has a weight of $5$ and the others $1$.\n",
    "\n",
    "- Fair coin created (1).\n",
    "- Unfair coin created with weight as specified (1)."
   ]
  },
  {
   "cell_type": "code",
   "execution_count": 3,
   "id": "55ce498e-c75f-4425-9e3e-b635bd6cd9e1",
   "metadata": {},
   "outputs": [
    {
     "name": "stdout",
     "output_type": "stream",
     "text": [
      "      weight\n",
      "face        \n",
      "H        1.0\n",
      "T        1.0\n",
      "      weight\n",
      "face        \n",
      "H        1.0\n",
      "T        5.0\n"
     ]
    }
   ],
   "source": [
    "faces = np.array(['H', 'T'])\n",
    "fair_coin = Die(faces)\n",
    "\n",
    "unfair_coin = Die(faces)\n",
    "unfair_coin.change_weight('T', 5)\n",
    "\n",
    "print(fair_coin.show())\n",
    "print(unfair_coin.show())"
   ]
  },
  {
   "cell_type": "markdown",
   "id": "02b272ab-99da-4b6e-ac2a-555b73e09c07",
   "metadata": {},
   "source": [
    "Task 2. Play a game of $1000$ flips with two fair dice.\n",
    "\n",
    "- Play method called correclty and without error (1)."
   ]
  },
  {
   "cell_type": "code",
   "execution_count": 4,
   "id": "65c92601-d32d-4326-b215-74953aee27f2",
   "metadata": {},
   "outputs": [
    {
     "name": "stdout",
     "output_type": "stream",
     "text": [
      "             0  1\n",
      "roll_number      \n",
      "0            T  T\n",
      "1            T  T\n",
      "2            T  T\n",
      "3            T  H\n",
      "4            H  T\n",
      "...         .. ..\n",
      "995          H  H\n",
      "996          T  H\n",
      "997          H  T\n",
      "998          T  H\n",
      "999          T  T\n",
      "\n",
      "[1000 rows x 2 columns]\n"
     ]
    }
   ],
   "source": [
    "task2_game = Game([fair_coin, fair_coin])\n",
    "\n",
    "task2_game.play(1000)\n",
    "\n",
    "print(task2_game.show(form='wide'))"
   ]
  },
  {
   "cell_type": "markdown",
   "id": "7d9c3dc8-22c1-4cae-81fb-d68d774a05d1",
   "metadata": {},
   "source": [
    "Task 3. Play another game (using a new Game object) of $1000$ flips, this time using two unfair dice and one fair die. For the second unfair die, you can use the same die object twice in the list of dice you pass to the Game object.\n",
    "\n",
    "- New game object created (1).\n",
    "- Play method called correclty and without error (1)."
   ]
  },
  {
   "cell_type": "code",
   "execution_count": 5,
   "id": "d4098bed-1eb2-4084-8d5e-9fda07c3be43",
   "metadata": {},
   "outputs": [
    {
     "name": "stdout",
     "output_type": "stream",
     "text": [
      "             0  1  2\n",
      "roll_number         \n",
      "0            T  T  T\n",
      "1            H  T  T\n",
      "2            T  T  H\n",
      "3            T  T  H\n",
      "4            T  T  T\n",
      "...         .. .. ..\n",
      "995          H  T  H\n",
      "996          T  H  H\n",
      "997          T  T  T\n",
      "998          H  T  H\n",
      "999          H  H  H\n",
      "\n",
      "[1000 rows x 3 columns]\n"
     ]
    }
   ],
   "source": [
    "task3_game = Game([unfair_coin, unfair_coin, fair_coin])\n",
    "\n",
    "task3_game.play(1000)\n",
    "\n",
    "print(task3_game.show(form='wide'))"
   ]
  },
  {
   "cell_type": "markdown",
   "id": "f690ebfc-fe71-4eb2-976d-7ac80ca6c23f",
   "metadata": {},
   "source": [
    "Task 4. For each game, use an Analyzer object to determine the raw frequency of jackpots — i.e. getting either all $H$s or all $T$s.\n",
    "\n",
    "- Analyzer objecs instantiated for both games (1).\n",
    "- Raw frequencies reported for both (1)."
   ]
  },
  {
   "cell_type": "code",
   "execution_count": 6,
   "id": "b26b8b7e-3be7-4476-a9a4-37d97536729e",
   "metadata": {},
   "outputs": [
    {
     "name": "stdout",
     "output_type": "stream",
     "text": [
      "Frequency of Jackpots for Game in Task2 with Fair Dice:   518\n",
      "Frequency of Jackpots for Game in Task3 with Weighted Dice:  355\n"
     ]
    }
   ],
   "source": [
    "task2_analyzer = Analyzer(task2_game)\n",
    "task2_jackpot = task2_analyzer.jackpot()\n",
    "print(f\"Frequency of Jackpots for Game in Task2 with Fair Dice:   {task2_jackpot}\")\n",
    "\n",
    "task3_analyzer = Analyzer(task3_game)\n",
    "task3_jackpot = task3_analyzer.jackpot()\n",
    "print(f\"Frequency of Jackpots for Game in Task3 with Weighted Dice:  {task3_jackpot}\")"
   ]
  },
  {
   "cell_type": "markdown",
   "id": "b73d233c-445e-40cd-8858-0c5e1f097105",
   "metadata": {},
   "source": [
    "Task 5. For each analyzer, compute relative frequency as the number of jackpots over the total number of rolls.\n",
    "\n",
    "- Both relative frequencies computed (1)."
   ]
  },
  {
   "cell_type": "code",
   "execution_count": 7,
   "id": "9a96b31b-1b9d-496e-be3e-4bf83c45ec3a",
   "metadata": {},
   "outputs": [
    {
     "name": "stdout",
     "output_type": "stream",
     "text": [
      "Relative frequency of Jackpots for Game in Task2 with Fair Dice:   0.518\n",
      "Relative frequency of Jackpots for Game in Task3 with Weighted Dice:  0.355\n"
     ]
    }
   ],
   "source": [
    "rel_freq_task2 = task2_jackpot / 1000\n",
    "print(f\"Relative frequency of Jackpots for Game in Task2 with Fair Dice:   {rel_freq_task2}\")\n",
    "\n",
    "\n",
    "rel_freq_task3 = task3_jackpot / 1000\n",
    "print(f\"Relative frequency of Jackpots for Game in Task3 with Weighted Dice:  {rel_freq_task3}\")"
   ]
  },
  {
   "cell_type": "markdown",
   "id": "a6e1e734-7f5c-4721-8ba4-2f3a424cf984",
   "metadata": {},
   "source": [
    "Task 6. Show your results, comparing the two relative frequencies, in a simple bar chart.\n",
    "\n",
    "- Bar chart plotted and correct (1)."
   ]
  },
  {
   "cell_type": "code",
   "execution_count": 8,
   "id": "473fa67c-aa53-4aa3-a0b7-e8772b3f6ed3",
   "metadata": {},
   "outputs": [
    {
     "data": {
      "text/plain": [
       "<Axes: >"
      ]
     },
     "execution_count": 8,
     "metadata": {},
     "output_type": "execute_result"
    },
    {
     "data": {
      "image/png": "[encoded data removed]",
      "text/plain": [
       "<Figure size 640x480 with 1 Axes>"
      ]
     },
     "metadata": {},
     "output_type": "display_data"
    }
   ],
   "source": [
    "import pandas as pd\n",
    "\n",
    "relative_frequencies = pd.Series({\n",
    "    'Task 2 Game': rel_freq_task2,\n",
    "    'Task 3 Game': rel_freq_task3\n",
    "})\n",
    "\n",
    "relative_frequencies.sort_index().plot.bar(rot=0)"
   ]
  },
  {
   "cell_type": "markdown",
   "id": "725cfa5b-e4b7-47c9-86aa-8d9e1fe6c8c7",
   "metadata": {},
   "source": [
    "## Scenario 2: A 6-sided Die (9)\n",
    "\n",
    "Task 1. Create three dice, each with six sides having the faces 1 through 6.\n",
    "\n",
    "- Three die objects created (1)."
   ]
  },
  {
   "cell_type": "code",
   "execution_count": 9,
   "id": "6a8bc611-325a-4e05-88d5-980e0a2cf7c5",
   "metadata": {},
   "outputs": [
    {
     "name": "stdout",
     "output_type": "stream",
     "text": [
      "      weight\n",
      "face        \n",
      "1        1.0\n",
      "2        1.0\n",
      "3        1.0\n",
      "4        1.0\n",
      "5        1.0\n",
      "6        1.0\n",
      "      weight\n",
      "face        \n",
      "1        1.0\n",
      "2        1.0\n",
      "3        1.0\n",
      "4        1.0\n",
      "5        1.0\n",
      "6        1.0\n",
      "      weight\n",
      "face        \n",
      "1        1.0\n",
      "2        1.0\n",
      "3        1.0\n",
      "4        1.0\n",
      "5        1.0\n",
      "6        1.0\n"
     ]
    }
   ],
   "source": [
    "faces2 = np.array([1, 2, 3, 4, 5, 6])\n",
    "die1 = Die(faces2)\n",
    "die2 = Die(faces2)\n",
    "die3 = Die(faces2)\n",
    "\n",
    "print(die1.show())\n",
    "print(die2.show())\n",
    "print(die3.show())"
   ]
  },
  {
   "cell_type": "markdown",
   "id": "2ed3ad26-fbe9-43bd-9ad7-f683a4191d12",
   "metadata": {},
   "source": [
    "Task 2. Convert one of the dice to an unfair one by weighting the face $6$ five times more than the other weights (i.e. it has weight of 5 and the others a weight of 1 each).\n",
    "\n",
    "- Unfair die created with proper call to weight change method (1)."
   ]
  },
  {
   "cell_type": "code",
   "execution_count": 10,
   "id": "e33dd18f-7f90-456d-a680-61c08a328e21",
   "metadata": {},
   "outputs": [
    {
     "name": "stdout",
     "output_type": "stream",
     "text": [
      "      weight\n",
      "face        \n",
      "1        1.0\n",
      "2        1.0\n",
      "3        1.0\n",
      "4        1.0\n",
      "5        1.0\n",
      "6        5.0\n"
     ]
    }
   ],
   "source": [
    "die2.change_weight(6, 5)\n",
    "print(die2.show())"
   ]
  },
  {
   "cell_type": "markdown",
   "id": "7f6c062a-4c5b-45b9-96b8-76a0354c7e47",
   "metadata": {},
   "source": [
    "Task 3. Convert another of the dice to be unfair by weighting the face $1$ five times more than the others.\n",
    "\n",
    "- Unfair die created with proper call to weight change method (1)."
   ]
  },
  {
   "cell_type": "code",
   "execution_count": 11,
   "id": "01133a4e-6b06-4246-8d90-8e6d6995be51",
   "metadata": {},
   "outputs": [
    {
     "name": "stdout",
     "output_type": "stream",
     "text": [
      "      weight\n",
      "face        \n",
      "1        5.0\n",
      "2        1.0\n",
      "3        1.0\n",
      "4        1.0\n",
      "5        1.0\n",
      "6        1.0\n"
     ]
    }
   ],
   "source": [
    "die3.change_weight(1, 5)\n",
    "print(die3.show())"
   ]
  },
  {
   "cell_type": "markdown",
   "id": "f0ed31cb-0a3c-4eb2-b85e-6ed6b2eb6e58",
   "metadata": {},
   "source": [
    "Task 4. Play a game of $10000$ rolls with $5$ fair dice.\n",
    "\n",
    "- Game class properly instantiated (1). \n",
    "- Play method called properly (1)."
   ]
  },
  {
   "cell_type": "code",
   "execution_count": 12,
   "id": "e92395a4-9ed8-4cb0-8c85-38768a784ffc",
   "metadata": {},
   "outputs": [
    {
     "name": "stdout",
     "output_type": "stream",
     "text": [
      "             0  1  2  3  4\n",
      "roll_number               \n",
      "0            3  3  1  4  1\n",
      "1            5  6  1  2  2\n",
      "2            6  6  3  1  6\n",
      "3            6  2  6  6  4\n",
      "4            6  3  6  3  3\n"
     ]
    }
   ],
   "source": [
    "fair_game = Game([die1, die1, die1, die1, die1])\n",
    "\n",
    "fair_game.play(10000)\n",
    "print(fair_game.show(form='wide').head())"
   ]
  },
  {
   "cell_type": "markdown",
   "id": "7814b402-46a4-40e5-8141-20e05c3e646b",
   "metadata": {},
   "source": [
    "Task 5. Play another game of $10000$ rolls, this time with $2$ unfair dice, one as defined in steps #2 and #3 respectively, and $3$ fair dice.\n",
    "\n",
    "- Game class properly instantiated (1). \n",
    "- Play method called properly (1)."
   ]
  },
  {
   "cell_type": "code",
   "execution_count": 13,
   "id": "7cd58fba-b2a5-4d5d-bc6d-2a7a68d18c4f",
   "metadata": {},
   "outputs": [
    {
     "name": "stdout",
     "output_type": "stream",
     "text": [
      "             0  1  2  3  4\n",
      "roll_number               \n",
      "0            3  4  2  6  3\n",
      "1            6  2  1  4  2\n",
      "2            5  1  4  4  1\n",
      "3            5  1  6  3  1\n",
      "4            5  2  2  6  4\n"
     ]
    }
   ],
   "source": [
    "unfair_game = Game([die1, die1, die1, die2, die3])\n",
    "unfair_game.play(10000)\n",
    "print(unfair_game.show(form='wide').head())"
   ]
  },
  {
   "cell_type": "markdown",
   "id": "7b6cd372-2bb8-4df8-ade1-8f48bc300955",
   "metadata": {},
   "source": [
    "Task 6. For each game, use an Analyzer object to determine the relative frequency of jackpots and show your results, comparing the two relative frequencies, in a simple bar chart.\n",
    "\n",
    "- Jackpot methods called (1).\n",
    "- Graph produced (1)."
   ]
  },
  {
   "cell_type": "code",
   "execution_count": 14,
   "id": "bbdcf695-8937-406e-9b53-aa0b9ee3c59a",
   "metadata": {},
   "outputs": [
    {
     "data": {
      "text/plain": [
       "<Axes: >"
      ]
     },
     "execution_count": 14,
     "metadata": {},
     "output_type": "execute_result"
    },
    {
     "data": {
      "image/png": "[encoded data removed]",
      "text/plain": [
       "<Figure size 640x480 with 1 Axes>"
      ]
     },
     "metadata": {},
     "output_type": "display_data"
    }
   ],
   "source": [
    "analyzer_fair = Analyzer(fair_game)\n",
    "jackpots_fair = analyzer_fair.jackpot()\n",
    "\n",
    "analyzer_unfair = Analyzer(unfair_game)\n",
    "jackpots_unfair = analyzer_unfair.jackpot()\n",
    "\n",
    "rel_freq_fair = jackpots_fair / 10000\n",
    "rel_freq_unfair = jackpots_unfair / 10000\n",
    "\n",
    "relative_frequencies2 = pd.Series({\n",
    "    'Fair Dice Game': rel_freq_fair,\n",
    "    'Unfair Dice Game': rel_freq_unfair\n",
    "})\n",
    "\n",
    "relative_frequencies2.sort_index().plot.bar( rot=0)"
   ]
  },
  {
   "cell_type": "markdown",
   "id": "9f04e9be-8fcf-4ea4-a391-6614608285f8",
   "metadata": {},
   "source": [
    "## Scenario 3: Letters of the Alphabet (7)\n",
    "\n",
    "Task 1. Create a \"die\" of letters from $A$ to $Z$ with weights based on their frequency of usage as found in the data file `english_letters.txt`. Use the frequencies (i.e. raw counts) as weights.\n",
    "\n",
    "- Die correctly instantiated with source file data (1).\n",
    "- Weights properly applied using weight setting method (1)."
   ]
  },
  {
   "cell_type": "code",
   "execution_count": 25,
   "id": "b0ceb771-3cdf-4d8f-8c2c-020806bbb909",
   "metadata": {},
   "outputs": [],
   "source": [
    "letter_data = pd.read_csv('english_letters.txt', sep='\\s+', header=None)\n",
    "letters = letter_data.iloc[:, 0].values\n",
    "frequencies = letter_data.iloc[:, 1].values\n",
    "\n",
    "alphabet_die = Die(letters)\n",
    "\n",
    "for i in range(len(letters)):\n",
    "    alphabet_die.change_weight(letters[i], frequencies[i])"
   ]
  },
  {
   "cell_type": "markdown",
   "id": "88e2e14a-6223-470a-a2c8-bca1120d7a5b",
   "metadata": {},
   "source": [
    "Task 2. Play a game involving $4$ of these dice with $1000$ rolls.\n",
    "\n",
    "- Game play method properly called (1)."
   ]
  },
  {
   "cell_type": "code",
   "execution_count": 26,
   "id": "2ae087cc-936d-4f1e-bddb-a7c179d139e0",
   "metadata": {},
   "outputs": [
    {
     "name": "stdout",
     "output_type": "stream",
     "text": [
      "             0  1  2  3\n",
      "roll_number            \n",
      "0            T  T  O  I\n",
      "1            D  C  N  W\n",
      "2            D  E  Y  O\n",
      "3            O  A  E  A\n",
      "4            Y  A  W  S\n"
     ]
    }
   ],
   "source": [
    "alphabet_game = Game([alphabet_die, alphabet_die, alphabet_die, alphabet_die])\n",
    "\n",
    "alphabet_game.play(1000)\n",
    "print(alphabet_game.show(form='wide').head())"
   ]
  },
  {
   "cell_type": "markdown",
   "id": "3b9ff800-bf1f-4f66-9d7f-ff57a648e9f0",
   "metadata": {},
   "source": [
    "Task 3. Determine how many permutations in your results are actual English words, based on the vocabulary found in `scrabble_words.txt`.\n",
    "\n",
    "- Use permutation method (1).\n",
    "- Get count as difference between permutations and vocabulary (1)."
   ]
  },
  {
   "cell_type": "code",
   "execution_count": 27,
   "id": "ed1c7fa0-cfa3-4cf4-9fd0-9f84b86b0f64",
   "metadata": {},
   "outputs": [
    {
     "name": "stdout",
     "output_type": "stream",
     "text": [
      "['THEW', 'THEN', 'STEW', 'ONER', 'AWEE', 'SPAY', 'LEER', 'POTT', 'PEAT', 'SAIN', 'HYLA', 'AIAS', 'BRIE', 'ETNA', 'ROTS', 'SORN', 'NAGS', 'PSST', 'TINK', 'TEEN', 'APES', 'FIRE', 'TOTS', 'MOME', 'GORE', 'ENES', 'SEES', 'BEES', 'HAAR', 'GUDE', 'EHED', 'ROLL', 'ERNE', 'GROT', 'WEEP', 'RORE', 'OOTS', 'ESNE', 'YAWS', 'AILS', 'ONOS', 'KORS', 'ECHT', 'TYEE', 'NISH', 'STAT', 'ETUI', 'HISS', 'ARIL', 'ONIE', 'POME', 'AIRN', 'EEVN', 'TETE', 'PEST', 'LEAR', 'SIPS', 'LOTE', 'OAFS']\n",
      "Total Permutations: 987\n",
      "Valid English words found: 59\n",
      "Difference: 928\n"
     ]
    }
   ],
   "source": [
    "scrabble_analyzer = Analyzer(alphabet_game)\n",
    "\n",
    "alphabet_permutations = scrabble_analyzer.permutation_count()\n",
    "scrabble_words = pd.read_csv('scrabble_words.txt', header = None)\n",
    "scrabble_words = scrabble_words[0]\n",
    "permutation_words = [''.join(i) for i in alphabet_permutations.index]\n",
    "English_words = [word for word in permutation_words if word in scrabble_words.values]\n",
    "\n",
    "print(English_words)\n",
    "\n",
    "total_permutations = len(alphabet_permutations)\n",
    "total_words_found = len(English_words)\n",
    "difference = total_permutations - total_words_found\n",
    "\n",
    "print(f\"Total Permutations: {total_permutations}\")\n",
    "print(f\"Valid English words found: {total_words_found}\")\n",
    "print(f\"Difference: {difference}\")"
   ]
  },
  {
   "cell_type": "markdown",
   "id": "fcf068cf-381a-4b3e-ac3a-0510eb4dbdb0",
   "metadata": {},
   "source": [
    "Task 4. Repeat steps #2 and #3, this time with $5$ dice. How many actual words does this produce? Which produces more?\n",
    "\n",
    "- Successfully repreats steps (1).\n",
    "- Identifies parameter with most found words (1)."
   ]
  },
  {
   "cell_type": "code",
   "execution_count": 28,
   "id": "84d633f0-2844-4709-a965-e49729f570e1",
   "metadata": {
    "tags": []
   },
   "outputs": [
    {
     "name": "stdout",
     "output_type": "stream",
     "text": [
      "             0  1  2  3  4\n",
      "roll_number               \n",
      "0            H  R  U  E  E\n",
      "1            S  E  P  E  R\n",
      "2            T  E  W  N  E\n",
      "3            E  R  F  O  W\n",
      "4            T  F  A  Y  A\n",
      "['ENTER', 'ETUDE', 'REENS', 'PRIME', 'EILDS', 'NONCE', 'NAKED', 'RAMEN', 'TRIOL']\n",
      "Valid English words found: 9\n"
     ]
    }
   ],
   "source": [
    "alphabet_game2 = Game([alphabet_die, alphabet_die, alphabet_die, alphabet_die, alphabet_die])\n",
    "\n",
    "alphabet_game2.play(1000)\n",
    "print(alphabet_game2.show(form='wide').head())\n",
    "\n",
    "scrabble_analyzer2 = Analyzer(alphabet_game2)\n",
    "\n",
    "alphabet_permutations2 = scrabble_analyzer2.permutation_count()\n",
    "permutation_words2 = [''.join(i) for i in alphabet_permutations2.index]\n",
    "English_words2 = [word for word in permutation_words2 if word in scrabble_words.values]\n",
    "\n",
    "print(English_words2)\n",
    "\n",
    "total_words_found2 = len(English_words2)\n",
    "print(f\"Valid English words found: {total_words_found2}\")"
   ]
  },
  {
   "cell_type": "raw",
   "id": "7087cb62-bcd3-4fdf-9da4-ee4e8dd6c71c",
   "metadata": {},
   "source": [
    "The game that involves 4 dice has permutations that produces more actual words than the game that involves 5 dice. "
   ]
  },
  {
   "cell_type": "raw",
   "id": "9b3c9998-7d76-47c4-97d8-5386518671a0",
   "metadata": {},
   "source": [
    "Thank you for a great semester!!"
   ]
  }
 ],
 "metadata": {
  "kernelspec": {
   "display_name": "Python 3 (ipykernel)",
   "language": "python",
   "name": "python3"
  },
  "language_info": {
   "codemirror_mode": {
    "name": "ipython",
    "version": 3
   },
   "file_extension": ".py",
   "mimetype": "text/x-python",
   "name": "python",
   "nbconvert_exporter": "python",
   "pygments_lexer": "ipython3",
   "version": "3.11.4"
  },
  "toc-autonumbering": true,
  "widgets": {
   "application/vnd.jupyter.widget-state+json": {
    "state": {},
    "version_major": 2,
    "version_minor": 0
   }
  }
 },
 "nbformat": 4,
 "nbformat_minor": 5
}
