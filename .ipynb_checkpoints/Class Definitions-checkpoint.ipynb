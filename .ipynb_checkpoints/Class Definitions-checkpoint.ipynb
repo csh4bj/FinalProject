{
 "cells": [
  {
   "cell_type": "code",
   "execution_count": 1,
   "id": "1210253d-638e-4c30-bcf7-d8725fb926c0",
   "metadata": {
    "tags": []
   },
   "outputs": [],
   "source": [
    "import numpy as np\n",
    "import pandas as pd"
   ]
  },
  {
   "cell_type": "code",
   "execution_count": 8,
   "id": "809ce1d2-2df4-4a6d-9704-b3822c09ab4a",
   "metadata": {},
   "outputs": [],
   "source": [
    "class Die:\n",
    "    def __init__(self, faces):\n",
    "        if type(faces) is not np.ndarray:\n",
    "            raise TypeError(\"Faces is not a NumPy array\")\n",
    "        if len(faces) != len(np.unique(faces)):\n",
    "            raise ValueError(\"Faces values must be distinct\")\n",
    "        \n",
    "        self.my_die = pd.DataFrame({\n",
    "            'face': faces,\n",
    "            'weight': [1.0] * len(faces)\n",
    "        }).set_index('face')\n",
    "\n",
    "        \n",
    "    def change_weight(self, face, new_weight):\n",
    "        if face not in self.my_die.index:\n",
    "            raise IndexError(\"Face not in Die array\")\n",
    "        try:\n",
    "            new_weight = float(new_weight)\n",
    "            if new_weight < 0:\n",
    "                raise ValueError(\"Weight cannot be negative\")\n",
    "        except ValueError:\n",
    "                raise TypeError(\"Weight is not a valid type\")\n",
    "        self.my_die.at[face, 'weight'] = new_weight\n",
    "    \n",
    "    def roll_dice(self, n_rolls=1):\n",
    "        results = []\n",
    "        for i in range(n_rolls):\n",
    "            result = self.my_die.sample(weights=self.my_die['weight']).index.values[0]\n",
    "            results.append(result)\n",
    "        return pd.Series(results)\n",
    "    \n",
    "    def show(self):\n",
    "        return self.my_die.copy()\n",
    "    \n",
    "        \n",
    "        "
   ]
  },
  {
   "cell_type": "code",
   "execution_count": null,
   "id": "fdbdea3b-5e18-4eda-bd53-87b1018421ac",
   "metadata": {
    "tags": []
   },
   "outputs": [],
   "source": [
    "class Game:\n",
    "    def __init__(self, dice_list):\n",
    "        self.dice_list = dice_list\n",
    "        self._results = None\n",
    "    def play(self, n_rolls):\n",
    "        result_data = {}\n",
    "        for i, dice in enumerate(self.dice_list):\n",
    "            result_data[i] = die.roll_dice(n_rolls).values\n",
    "        self.results = pd.DataFrame(result_data)\n",
    "        self.results.index.name = 'roll_number'\n",
    "    def show(self, form='wide'):\n",
    "        if self._results is None:\n",
    "            return None\n",
    "\n",
    "        if form == 'wide':\n",
    "            return self.results.copy()\n",
    "\n",
    "        elif form == 'narrow':\n",
    "            narrow_df = self._results.stack()\n",
    "            narrow_df.index.names = ['roll_number', 'die_number']\n",
    "            return narrow_df.to_frame('outcome')\n",
    "\n",
    "        else:\n",
    "            raise ValueError(\"For must be either 'wide' or 'narrow'\")"
   ]
  },
  {
   "cell_type": "code",
   "execution_count": null,
   "id": "79770c2a-e09c-4fac-bca4-ea615efc7a42",
   "metadata": {},
   "outputs": [],
   "source": []
  }
 ],
 "metadata": {
  "kernelspec": {
   "display_name": "Python 3 (ipykernel)",
   "language": "python",
   "name": "python3"
  },
  "language_info": {
   "codemirror_mode": {
    "name": "ipython",
    "version": 3
   },
   "file_extension": ".py",
   "mimetype": "text/x-python",
   "name": "python",
   "nbconvert_exporter": "python",
   "pygments_lexer": "ipython3",
   "version": "3.11.4"
  }
 },
 "nbformat": 4,
 "nbformat_minor": 5
}
